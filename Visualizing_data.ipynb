{
  "nbformat": 4,
  "nbformat_minor": 0,
  "metadata": {
    "colab": {
      "name": "Visualizing data.ipynb",
      "provenance": [],
      "collapsed_sections": [],
      "authorship_tag": "ABX9TyMLrxmGj6gHAXqydfePEFhd"
    },
    "kernelspec": {
      "name": "python3",
      "display_name": "Python 3"
    },
    "language_info": {
      "name": "python"
    }
  },
  "cells": [
    {
      "cell_type": "markdown",
      "source": [
        "**Visualizing qualitative data**\n",
        "---\n",
        "\n"
      ],
      "metadata": {
        "id": "64krtPhdgwuv"
      }
    },
    {
      "cell_type": "markdown",
      "source": [
        "\n",
        "\n",
        "**New York City Airbnb Open Data from kaggle --> [Download](https://www.kaggle.com/datasets/dgomonov/new-york-city-airbnb-open-data)**"
      ],
      "metadata": {
        "id": "hsE8CiUkh2Ub"
      }
    },
    {
      "cell_type": "code",
      "execution_count": 1,
      "metadata": {
        "id": "MnkoewWoeUT9"
      },
      "outputs": [],
      "source": [
        "import pandas as pd\n",
        "import matplotlib.pyplot as plt\n",
        "import seaborn as sn"
      ]
    },
    {
      "cell_type": "code",
      "source": [
        "path = \"/content/listings.csv\"\n",
        "listings = pd.read_csv(path)"
      ],
      "metadata": {
        "id": "3IpH_ji1hOoE"
      },
      "execution_count": 2,
      "outputs": []
    },
    {
      "cell_type": "code",
      "source": [
        "listings"
      ],
      "metadata": {
        "colab": {
          "base_uri": "https://localhost:8080/",
          "height": 800
        },
        "id": "ysmY1C3Ml-Bd",
        "outputId": "ea8bc172-be3d-4512-82fa-074fdae4140e"
      },
      "execution_count": 3,
      "outputs": [
        {
          "output_type": "execute_result",
          "data": {
            "text/plain": [
              "             id                                              name    host_id  \\\n",
              "0          3647               THE VILLAGE OF HARLEM....NEW YORK !       4632   \n",
              "1          3831                   Cozy Entire Floor of Brownstone       4869   \n",
              "2          5022  Entire Apt: Spacious Studio/Loft by central park       7192   \n",
              "3          5099         Large Cozy 1 BR Apartment In Midtown East       7322   \n",
              "4          5121                                   BlissArtsSpace!       7356   \n",
              "...         ...                                               ...        ...   \n",
              "48372  38564068                                 Top Floor Delight  207204450   \n",
              "48373  38564524                             Central Park Elegance    1567562   \n",
              "48374  38566777                              Quiet room available  159902221   \n",
              "48375  38567542              Spacious room in Brooklyn brownstone   68905617   \n",
              "48376  38568081         Petrose home by JFK, Beach &St John Hosp.  293596932   \n",
              "\n",
              "         host_name neighbourhood_group       neighbourhood  latitude  \\\n",
              "0        Elisabeth           Manhattan              Harlem  40.80902   \n",
              "1      LisaRoxanne            Brooklyn        Clinton Hill  40.68514   \n",
              "2            Laura           Manhattan         East Harlem  40.79851   \n",
              "3            Chris           Manhattan         Murray Hill  40.74767   \n",
              "4            Garon            Brooklyn  Bedford-Stuyvesant  40.68688   \n",
              "...            ...                 ...                 ...       ...   \n",
              "48372          Ade            Brooklyn       Cypress Hills  40.67618   \n",
              "48373       Maggie           Manhattan     Upper East Side  40.77326   \n",
              "48374        Nancy            Brooklyn            Bushwick  40.69907   \n",
              "48375         Eric            Brooklyn       Crown Heights  40.66986   \n",
              "48376      Ebangha              Queens        Far Rockaway  40.60315   \n",
              "\n",
              "       longitude        room_type  price  minimum_nights  number_of_reviews  \\\n",
              "0      -73.94190     Private room    150               3                  0   \n",
              "1      -73.95976  Entire home/apt     89               1                279   \n",
              "2      -73.94399  Entire home/apt     80              10                  9   \n",
              "3      -73.97500  Entire home/apt    200               3                 75   \n",
              "4      -73.95596     Private room     60              45                 49   \n",
              "...          ...              ...    ...             ...                ...   \n",
              "48372  -73.90764  Entire home/apt    199               2                  0   \n",
              "48373  -73.96650  Entire home/apt    175              30                  0   \n",
              "48374  -73.93043     Private room     35              30                  0   \n",
              "48375  -73.93772     Private room     79               1                  0   \n",
              "48376  -73.75722     Private room     45               3                  0   \n",
              "\n",
              "      last_review  reviews_per_month  calculated_host_listings_count  \\\n",
              "0             NaN                NaN                               1   \n",
              "1      2019-08-29               4.62                               1   \n",
              "2      2018-11-19               0.10                               1   \n",
              "3      2019-07-21               0.59                               1   \n",
              "4      2017-10-05               0.39                               1   \n",
              "...           ...                ...                             ...   \n",
              "48372         NaN                NaN                               4   \n",
              "48373         NaN                NaN                               1   \n",
              "48374         NaN                NaN                               1   \n",
              "48375         NaN                NaN                              10   \n",
              "48376         NaN                NaN                               1   \n",
              "\n",
              "       availability_365  \n",
              "0                   365  \n",
              "1                   192  \n",
              "2                     0  \n",
              "3                    13  \n",
              "4                     0  \n",
              "...                 ...  \n",
              "48372                42  \n",
              "48373               263  \n",
              "48374                66  \n",
              "48375               322  \n",
              "48376               173  \n",
              "\n",
              "[48377 rows x 16 columns]"
            ],
            "text/html": [
              "\n",
              "  <div id=\"df-7b84cd2a-1bb8-49ad-a2b0-ac6b771fd696\">\n",
              "    <div class=\"colab-df-container\">\n",
              "      <div>\n",
              "<style scoped>\n",
              "    .dataframe tbody tr th:only-of-type {\n",
              "        vertical-align: middle;\n",
              "    }\n",
              "\n",
              "    .dataframe tbody tr th {\n",
              "        vertical-align: top;\n",
              "    }\n",
              "\n",
              "    .dataframe thead th {\n",
              "        text-align: right;\n",
              "    }\n",
              "</style>\n",
              "<table border=\"1\" class=\"dataframe\">\n",
              "  <thead>\n",
              "    <tr style=\"text-align: right;\">\n",
              "      <th></th>\n",
              "      <th>id</th>\n",
              "      <th>name</th>\n",
              "      <th>host_id</th>\n",
              "      <th>host_name</th>\n",
              "      <th>neighbourhood_group</th>\n",
              "      <th>neighbourhood</th>\n",
              "      <th>latitude</th>\n",
              "      <th>longitude</th>\n",
              "      <th>room_type</th>\n",
              "      <th>price</th>\n",
              "      <th>minimum_nights</th>\n",
              "      <th>number_of_reviews</th>\n",
              "      <th>last_review</th>\n",
              "      <th>reviews_per_month</th>\n",
              "      <th>calculated_host_listings_count</th>\n",
              "      <th>availability_365</th>\n",
              "    </tr>\n",
              "  </thead>\n",
              "  <tbody>\n",
              "    <tr>\n",
              "      <th>0</th>\n",
              "      <td>3647</td>\n",
              "      <td>THE VILLAGE OF HARLEM....NEW YORK !</td>\n",
              "      <td>4632</td>\n",
              "      <td>Elisabeth</td>\n",
              "      <td>Manhattan</td>\n",
              "      <td>Harlem</td>\n",
              "      <td>40.80902</td>\n",
              "      <td>-73.94190</td>\n",
              "      <td>Private room</td>\n",
              "      <td>150</td>\n",
              "      <td>3</td>\n",
              "      <td>0</td>\n",
              "      <td>NaN</td>\n",
              "      <td>NaN</td>\n",
              "      <td>1</td>\n",
              "      <td>365</td>\n",
              "    </tr>\n",
              "    <tr>\n",
              "      <th>1</th>\n",
              "      <td>3831</td>\n",
              "      <td>Cozy Entire Floor of Brownstone</td>\n",
              "      <td>4869</td>\n",
              "      <td>LisaRoxanne</td>\n",
              "      <td>Brooklyn</td>\n",
              "      <td>Clinton Hill</td>\n",
              "      <td>40.68514</td>\n",
              "      <td>-73.95976</td>\n",
              "      <td>Entire home/apt</td>\n",
              "      <td>89</td>\n",
              "      <td>1</td>\n",
              "      <td>279</td>\n",
              "      <td>2019-08-29</td>\n",
              "      <td>4.62</td>\n",
              "      <td>1</td>\n",
              "      <td>192</td>\n",
              "    </tr>\n",
              "    <tr>\n",
              "      <th>2</th>\n",
              "      <td>5022</td>\n",
              "      <td>Entire Apt: Spacious Studio/Loft by central park</td>\n",
              "      <td>7192</td>\n",
              "      <td>Laura</td>\n",
              "      <td>Manhattan</td>\n",
              "      <td>East Harlem</td>\n",
              "      <td>40.79851</td>\n",
              "      <td>-73.94399</td>\n",
              "      <td>Entire home/apt</td>\n",
              "      <td>80</td>\n",
              "      <td>10</td>\n",
              "      <td>9</td>\n",
              "      <td>2018-11-19</td>\n",
              "      <td>0.10</td>\n",
              "      <td>1</td>\n",
              "      <td>0</td>\n",
              "    </tr>\n",
              "    <tr>\n",
              "      <th>3</th>\n",
              "      <td>5099</td>\n",
              "      <td>Large Cozy 1 BR Apartment In Midtown East</td>\n",
              "      <td>7322</td>\n",
              "      <td>Chris</td>\n",
              "      <td>Manhattan</td>\n",
              "      <td>Murray Hill</td>\n",
              "      <td>40.74767</td>\n",
              "      <td>-73.97500</td>\n",
              "      <td>Entire home/apt</td>\n",
              "      <td>200</td>\n",
              "      <td>3</td>\n",
              "      <td>75</td>\n",
              "      <td>2019-07-21</td>\n",
              "      <td>0.59</td>\n",
              "      <td>1</td>\n",
              "      <td>13</td>\n",
              "    </tr>\n",
              "    <tr>\n",
              "      <th>4</th>\n",
              "      <td>5121</td>\n",
              "      <td>BlissArtsSpace!</td>\n",
              "      <td>7356</td>\n",
              "      <td>Garon</td>\n",
              "      <td>Brooklyn</td>\n",
              "      <td>Bedford-Stuyvesant</td>\n",
              "      <td>40.68688</td>\n",
              "      <td>-73.95596</td>\n",
              "      <td>Private room</td>\n",
              "      <td>60</td>\n",
              "      <td>45</td>\n",
              "      <td>49</td>\n",
              "      <td>2017-10-05</td>\n",
              "      <td>0.39</td>\n",
              "      <td>1</td>\n",
              "      <td>0</td>\n",
              "    </tr>\n",
              "    <tr>\n",
              "      <th>...</th>\n",
              "      <td>...</td>\n",
              "      <td>...</td>\n",
              "      <td>...</td>\n",
              "      <td>...</td>\n",
              "      <td>...</td>\n",
              "      <td>...</td>\n",
              "      <td>...</td>\n",
              "      <td>...</td>\n",
              "      <td>...</td>\n",
              "      <td>...</td>\n",
              "      <td>...</td>\n",
              "      <td>...</td>\n",
              "      <td>...</td>\n",
              "      <td>...</td>\n",
              "      <td>...</td>\n",
              "      <td>...</td>\n",
              "    </tr>\n",
              "    <tr>\n",
              "      <th>48372</th>\n",
              "      <td>38564068</td>\n",
              "      <td>Top Floor Delight</td>\n",
              "      <td>207204450</td>\n",
              "      <td>Ade</td>\n",
              "      <td>Brooklyn</td>\n",
              "      <td>Cypress Hills</td>\n",
              "      <td>40.67618</td>\n",
              "      <td>-73.90764</td>\n",
              "      <td>Entire home/apt</td>\n",
              "      <td>199</td>\n",
              "      <td>2</td>\n",
              "      <td>0</td>\n",
              "      <td>NaN</td>\n",
              "      <td>NaN</td>\n",
              "      <td>4</td>\n",
              "      <td>42</td>\n",
              "    </tr>\n",
              "    <tr>\n",
              "      <th>48373</th>\n",
              "      <td>38564524</td>\n",
              "      <td>Central Park Elegance</td>\n",
              "      <td>1567562</td>\n",
              "      <td>Maggie</td>\n",
              "      <td>Manhattan</td>\n",
              "      <td>Upper East Side</td>\n",
              "      <td>40.77326</td>\n",
              "      <td>-73.96650</td>\n",
              "      <td>Entire home/apt</td>\n",
              "      <td>175</td>\n",
              "      <td>30</td>\n",
              "      <td>0</td>\n",
              "      <td>NaN</td>\n",
              "      <td>NaN</td>\n",
              "      <td>1</td>\n",
              "      <td>263</td>\n",
              "    </tr>\n",
              "    <tr>\n",
              "      <th>48374</th>\n",
              "      <td>38566777</td>\n",
              "      <td>Quiet room available</td>\n",
              "      <td>159902221</td>\n",
              "      <td>Nancy</td>\n",
              "      <td>Brooklyn</td>\n",
              "      <td>Bushwick</td>\n",
              "      <td>40.69907</td>\n",
              "      <td>-73.93043</td>\n",
              "      <td>Private room</td>\n",
              "      <td>35</td>\n",
              "      <td>30</td>\n",
              "      <td>0</td>\n",
              "      <td>NaN</td>\n",
              "      <td>NaN</td>\n",
              "      <td>1</td>\n",
              "      <td>66</td>\n",
              "    </tr>\n",
              "    <tr>\n",
              "      <th>48375</th>\n",
              "      <td>38567542</td>\n",
              "      <td>Spacious room in Brooklyn brownstone</td>\n",
              "      <td>68905617</td>\n",
              "      <td>Eric</td>\n",
              "      <td>Brooklyn</td>\n",
              "      <td>Crown Heights</td>\n",
              "      <td>40.66986</td>\n",
              "      <td>-73.93772</td>\n",
              "      <td>Private room</td>\n",
              "      <td>79</td>\n",
              "      <td>1</td>\n",
              "      <td>0</td>\n",
              "      <td>NaN</td>\n",
              "      <td>NaN</td>\n",
              "      <td>10</td>\n",
              "      <td>322</td>\n",
              "    </tr>\n",
              "    <tr>\n",
              "      <th>48376</th>\n",
              "      <td>38568081</td>\n",
              "      <td>Petrose home by JFK, Beach &amp;St John Hosp.</td>\n",
              "      <td>293596932</td>\n",
              "      <td>Ebangha</td>\n",
              "      <td>Queens</td>\n",
              "      <td>Far Rockaway</td>\n",
              "      <td>40.60315</td>\n",
              "      <td>-73.75722</td>\n",
              "      <td>Private room</td>\n",
              "      <td>45</td>\n",
              "      <td>3</td>\n",
              "      <td>0</td>\n",
              "      <td>NaN</td>\n",
              "      <td>NaN</td>\n",
              "      <td>1</td>\n",
              "      <td>173</td>\n",
              "    </tr>\n",
              "  </tbody>\n",
              "</table>\n",
              "<p>48377 rows × 16 columns</p>\n",
              "</div>\n",
              "      <button class=\"colab-df-convert\" onclick=\"convertToInteractive('df-7b84cd2a-1bb8-49ad-a2b0-ac6b771fd696')\"\n",
              "              title=\"Convert this dataframe to an interactive table.\"\n",
              "              style=\"display:none;\">\n",
              "        \n",
              "  <svg xmlns=\"http://www.w3.org/2000/svg\" height=\"24px\"viewBox=\"0 0 24 24\"\n",
              "       width=\"24px\">\n",
              "    <path d=\"M0 0h24v24H0V0z\" fill=\"none\"/>\n",
              "    <path d=\"M18.56 5.44l.94 2.06.94-2.06 2.06-.94-2.06-.94-.94-2.06-.94 2.06-2.06.94zm-11 1L8.5 8.5l.94-2.06 2.06-.94-2.06-.94L8.5 2.5l-.94 2.06-2.06.94zm10 10l.94 2.06.94-2.06 2.06-.94-2.06-.94-.94-2.06-.94 2.06-2.06.94z\"/><path d=\"M17.41 7.96l-1.37-1.37c-.4-.4-.92-.59-1.43-.59-.52 0-1.04.2-1.43.59L10.3 9.45l-7.72 7.72c-.78.78-.78 2.05 0 2.83L4 21.41c.39.39.9.59 1.41.59.51 0 1.02-.2 1.41-.59l7.78-7.78 2.81-2.81c.8-.78.8-2.07 0-2.86zM5.41 20L4 18.59l7.72-7.72 1.47 1.35L5.41 20z\"/>\n",
              "  </svg>\n",
              "      </button>\n",
              "      \n",
              "  <style>\n",
              "    .colab-df-container {\n",
              "      display:flex;\n",
              "      flex-wrap:wrap;\n",
              "      gap: 12px;\n",
              "    }\n",
              "\n",
              "    .colab-df-convert {\n",
              "      background-color: #E8F0FE;\n",
              "      border: none;\n",
              "      border-radius: 50%;\n",
              "      cursor: pointer;\n",
              "      display: none;\n",
              "      fill: #1967D2;\n",
              "      height: 32px;\n",
              "      padding: 0 0 0 0;\n",
              "      width: 32px;\n",
              "    }\n",
              "\n",
              "    .colab-df-convert:hover {\n",
              "      background-color: #E2EBFA;\n",
              "      box-shadow: 0px 1px 2px rgba(60, 64, 67, 0.3), 0px 1px 3px 1px rgba(60, 64, 67, 0.15);\n",
              "      fill: #174EA6;\n",
              "    }\n",
              "\n",
              "    [theme=dark] .colab-df-convert {\n",
              "      background-color: #3B4455;\n",
              "      fill: #D2E3FC;\n",
              "    }\n",
              "\n",
              "    [theme=dark] .colab-df-convert:hover {\n",
              "      background-color: #434B5C;\n",
              "      box-shadow: 0px 1px 3px 1px rgba(0, 0, 0, 0.15);\n",
              "      filter: drop-shadow(0px 1px 2px rgba(0, 0, 0, 0.3));\n",
              "      fill: #FFFFFF;\n",
              "    }\n",
              "  </style>\n",
              "\n",
              "      <script>\n",
              "        const buttonEl =\n",
              "          document.querySelector('#df-7b84cd2a-1bb8-49ad-a2b0-ac6b771fd696 button.colab-df-convert');\n",
              "        buttonEl.style.display =\n",
              "          google.colab.kernel.accessAllowed ? 'block' : 'none';\n",
              "\n",
              "        async function convertToInteractive(key) {\n",
              "          const element = document.querySelector('#df-7b84cd2a-1bb8-49ad-a2b0-ac6b771fd696');\n",
              "          const dataTable =\n",
              "            await google.colab.kernel.invokeFunction('convertToInteractive',\n",
              "                                                     [key], {});\n",
              "          if (!dataTable) return;\n",
              "\n",
              "          const docLinkHtml = 'Like what you see? Visit the ' +\n",
              "            '<a target=\"_blank\" href=https://colab.research.google.com/notebooks/data_table.ipynb>data table notebook</a>'\n",
              "            + ' to learn more about interactive tables.';\n",
              "          element.innerHTML = '';\n",
              "          dataTable['output_type'] = 'display_data';\n",
              "          await google.colab.output.renderOutput(dataTable, element);\n",
              "          const docLink = document.createElement('div');\n",
              "          docLink.innerHTML = docLinkHtml;\n",
              "          element.appendChild(docLink);\n",
              "        }\n",
              "      </script>\n",
              "    </div>\n",
              "  </div>\n",
              "  "
            ]
          },
          "metadata": {},
          "execution_count": 3
        }
      ]
    },
    {
      "cell_type": "markdown",
      "source": [
        "**So, let's say I want to create a bar chart that will display the count of a BMB listing in each neighborhood group of New York City from this data frame**"
      ],
      "metadata": {
        "id": "DpShiFBsmIdR"
      }
    },
    {
      "cell_type": "code",
      "source": [
        "sn.countplot(x = 'neighbourhood_group', data = listings)\n",
        "plt.show()"
      ],
      "metadata": {
        "colab": {
          "base_uri": "https://localhost:8080/",
          "height": 280
        },
        "id": "YzrZj5YdmijM",
        "outputId": "2b7fa511-90b3-4c04-d33f-dc9283a30966"
      },
      "execution_count": 4,
      "outputs": [
        {
          "output_type": "display_data",
          "data": {
            "text/plain": [
              "<Figure size 432x288 with 1 Axes>"
            ],
            "image/png": "[encoded data removed]"
          },
          "metadata": {
            "needs_background": "light"
          }
        }
      ]
    },
    {
      "cell_type": "markdown",
      "source": [
        "**So looking at the bar chart, We can see that Manhatten is the neighnorhood group with the highest count then Brooklyn then Queens then Bronx then Staten Island**"
      ],
      "metadata": {
        "id": "2jkZ-Oq9nEPI"
      }
    },
    {
      "cell_type": "markdown",
      "source": [
        "---"
      ],
      "metadata": {
        "id": "9NRd3ZlMnjVv"
      }
    },
    {
      "cell_type": "markdown",
      "source": [
        "**Next, I want to create a bar chart that is going to display the average price of Airbnb listings in each neighnorhood group of New York City**"
      ],
      "metadata": {
        "id": "7zCp2lTCnktJ"
      }
    },
    {
      "cell_type": "code",
      "source": [
        "sn.barplot(x = 'neighbourhood_group', y = 'price', data = listings)\n",
        "plt.show()"
      ],
      "metadata": {
        "colab": {
          "base_uri": "https://localhost:8080/",
          "height": 280
        },
        "id": "KlIA9g3mnhrZ",
        "outputId": "c0d9d090-6ff2-480e-f2b6-793c65e5d3d5"
      },
      "execution_count": 5,
      "outputs": [
        {
          "output_type": "display_data",
          "data": {
            "text/plain": [
              "<Figure size 432x288 with 1 Axes>"
            ],
            "image/png": "[encoded data removed]"
          },
          "metadata": {
            "needs_background": "light"
          }
        }
      ]
    },
    {
      "cell_type": "markdown",
      "source": [
        "**Notice in the bar chart, you can see these black lines in the middle of each of the bars, They basically are used to mark confidence intervals**"
      ],
      "metadata": {
        "id": "5ruGdS3voMww"
      }
    },
    {
      "cell_type": "code",
      "source": [
        "sn.barplot(x = 'neighbourhood_group', y = 'price', data = listings, ci = False)\n",
        "plt.show()"
      ],
      "metadata": {
        "colab": {
          "base_uri": "https://localhost:8080/",
          "height": 280
        },
        "id": "IXMuUfM-otGN",
        "outputId": "d3c448a8-2c71-4437-ef6e-ffc7ef10308e"
      },
      "execution_count": 6,
      "outputs": [
        {
          "output_type": "display_data",
          "data": {
            "text/plain": [
              "<Figure size 432x288 with 1 Axes>"
            ],
            "image/png": "[encoded data removed]"
          },
          "metadata": {
            "needs_background": "light"
          }
        }
      ]
    },
    {
      "cell_type": "markdown",
      "source": [
        "**So here I'm trying to recreate this bar chart here, but without the black line**\n",
        "\n",
        "---\n",
        "\n",
        "**And notice in the bar chart, We can see that Manhatten is the highest average price for a BMB listing in New York, Followed by Brooklyn then Staten Island  then Queens then Bronx** "
      ],
      "metadata": {
        "id": "TAupVqaiosLI"
      }
    },
    {
      "cell_type": "markdown",
      "source": [
        "\n",
        "\n",
        "---\n",
        "\n"
      ],
      "metadata": {
        "id": "q02-PTx0p15l"
      }
    },
    {
      "cell_type": "markdown",
      "source": [
        "**Visualizing quantitative data**\n",
        "---\n"
      ],
      "metadata": {
        "id": "mRcNqGGyp3id"
      }
    },
    {
      "cell_type": "code",
      "source": [
        "import pandas as pd\n",
        "import matplotlib.pyplot as plt\n",
        "import seaborn as sn\n",
        "import numpy as np"
      ],
      "metadata": {
        "id": "ZIWdO3FKp3Is"
      },
      "execution_count": 7,
      "outputs": []
    },
    {
      "cell_type": "code",
      "source": [
        "path = \"/content/listings.csv\"\n",
        "listings = pd.read_csv(path)"
      ],
      "metadata": {
        "id": "sfqBZbVDqDql"
      },
      "execution_count": 8,
      "outputs": []
    },
    {
      "cell_type": "code",
      "source": [
        "listings"
      ],
      "metadata": {
        "colab": {
          "base_uri": "https://localhost:8080/",
          "height": 800
        },
        "id": "rSzczX4qqSE7",
        "outputId": "182325cc-46f5-4f57-ca76-d284129332f0"
      },
      "execution_count": 9,
      "outputs": [
        {
          "output_type": "execute_result",
          "data": {
            "text/plain": [
              "             id                                              name    host_id  \\\n",
              "0          3647               THE VILLAGE OF HARLEM....NEW YORK !       4632   \n",
              "1          3831                   Cozy Entire Floor of Brownstone       4869   \n",
              "2          5022  Entire Apt: Spacious Studio/Loft by central park       7192   \n",
              "3          5099         Large Cozy 1 BR Apartment In Midtown East       7322   \n",
              "4          5121                                   BlissArtsSpace!       7356   \n",
              "...         ...                                               ...        ...   \n",
              "48372  38564068                                 Top Floor Delight  207204450   \n",
              "48373  38564524                             Central Park Elegance    1567562   \n",
              "48374  38566777                              Quiet room available  159902221   \n",
              "48375  38567542              Spacious room in Brooklyn brownstone   68905617   \n",
              "48376  38568081         Petrose home by JFK, Beach &St John Hosp.  293596932   \n",
              "\n",
              "         host_name neighbourhood_group       neighbourhood  latitude  \\\n",
              "0        Elisabeth           Manhattan              Harlem  40.80902   \n",
              "1      LisaRoxanne            Brooklyn        Clinton Hill  40.68514   \n",
              "2            Laura           Manhattan         East Harlem  40.79851   \n",
              "3            Chris           Manhattan         Murray Hill  40.74767   \n",
              "4            Garon            Brooklyn  Bedford-Stuyvesant  40.68688   \n",
              "...            ...                 ...                 ...       ...   \n",
              "48372          Ade            Brooklyn       Cypress Hills  40.67618   \n",
              "48373       Maggie           Manhattan     Upper East Side  40.77326   \n",
              "48374        Nancy            Brooklyn            Bushwick  40.69907   \n",
              "48375         Eric            Brooklyn       Crown Heights  40.66986   \n",
              "48376      Ebangha              Queens        Far Rockaway  40.60315   \n",
              "\n",
              "       longitude        room_type  price  minimum_nights  number_of_reviews  \\\n",
              "0      -73.94190     Private room    150               3                  0   \n",
              "1      -73.95976  Entire home/apt     89               1                279   \n",
              "2      -73.94399  Entire home/apt     80              10                  9   \n",
              "3      -73.97500  Entire home/apt    200               3                 75   \n",
              "4      -73.95596     Private room     60              45                 49   \n",
              "...          ...              ...    ...             ...                ...   \n",
              "48372  -73.90764  Entire home/apt    199               2                  0   \n",
              "48373  -73.96650  Entire home/apt    175              30                  0   \n",
              "48374  -73.93043     Private room     35              30                  0   \n",
              "48375  -73.93772     Private room     79               1                  0   \n",
              "48376  -73.75722     Private room     45               3                  0   \n",
              "\n",
              "      last_review  reviews_per_month  calculated_host_listings_count  \\\n",
              "0             NaN                NaN                               1   \n",
              "1      2019-08-29               4.62                               1   \n",
              "2      2018-11-19               0.10                               1   \n",
              "3      2019-07-21               0.59                               1   \n",
              "4      2017-10-05               0.39                               1   \n",
              "...           ...                ...                             ...   \n",
              "48372         NaN                NaN                               4   \n",
              "48373         NaN                NaN                               1   \n",
              "48374         NaN                NaN                               1   \n",
              "48375         NaN                NaN                              10   \n",
              "48376         NaN                NaN                               1   \n",
              "\n",
              "       availability_365  \n",
              "0                   365  \n",
              "1                   192  \n",
              "2                     0  \n",
              "3                    13  \n",
              "4                     0  \n",
              "...                 ...  \n",
              "48372                42  \n",
              "48373               263  \n",
              "48374                66  \n",
              "48375               322  \n",
              "48376               173  \n",
              "\n",
              "[48377 rows x 16 columns]"
            ],
            "text/html": [
              "\n",
              "  <div id=\"df-91a7967e-fba4-4af0-b339-c7f74abb75cd\">\n",
              "    <div class=\"colab-df-container\">\n",
              "      <div>\n",
              "<style scoped>\n",
              "    .dataframe tbody tr th:only-of-type {\n",
              "        vertical-align: middle;\n",
              "    }\n",
              "\n",
              "    .dataframe tbody tr th {\n",
              "        vertical-align: top;\n",
              "    }\n",
              "\n",
              "    .dataframe thead th {\n",
              "        text-align: right;\n",
              "    }\n",
              "</style>\n",
              "<table border=\"1\" class=\"dataframe\">\n",
              "  <thead>\n",
              "    <tr style=\"text-align: right;\">\n",
              "      <th></th>\n",
              "      <th>id</th>\n",
              "      <th>name</th>\n",
              "      <th>host_id</th>\n",
              "      <th>host_name</th>\n",
              "      <th>neighbourhood_group</th>\n",
              "      <th>neighbourhood</th>\n",
              "      <th>latitude</th>\n",
              "      <th>longitude</th>\n",
              "      <th>room_type</th>\n",
              "      <th>price</th>\n",
              "      <th>minimum_nights</th>\n",
              "      <th>number_of_reviews</th>\n",
              "      <th>last_review</th>\n",
              "      <th>reviews_per_month</th>\n",
              "      <th>calculated_host_listings_count</th>\n",
              "      <th>availability_365</th>\n",
              "    </tr>\n",
              "  </thead>\n",
              "  <tbody>\n",
              "    <tr>\n",
              "      <th>0</th>\n",
              "      <td>3647</td>\n",
              "      <td>THE VILLAGE OF HARLEM....NEW YORK !</td>\n",
              "      <td>4632</td>\n",
              "      <td>Elisabeth</td>\n",
              "      <td>Manhattan</td>\n",
              "      <td>Harlem</td>\n",
              "      <td>40.80902</td>\n",
              "      <td>-73.94190</td>\n",
              "      <td>Private room</td>\n",
              "      <td>150</td>\n",
              "      <td>3</td>\n",
              "      <td>0</td>\n",
              "      <td>NaN</td>\n",
              "      <td>NaN</td>\n",
              "      <td>1</td>\n",
              "      <td>365</td>\n",
              "    </tr>\n",
              "    <tr>\n",
              "      <th>1</th>\n",
              "      <td>3831</td>\n",
              "      <td>Cozy Entire Floor of Brownstone</td>\n",
              "      <td>4869</td>\n",
              "      <td>LisaRoxanne</td>\n",
              "      <td>Brooklyn</td>\n",
              "      <td>Clinton Hill</td>\n",
              "      <td>40.68514</td>\n",
              "      <td>-73.95976</td>\n",
              "      <td>Entire home/apt</td>\n",
              "      <td>89</td>\n",
              "      <td>1</td>\n",
              "      <td>279</td>\n",
              "      <td>2019-08-29</td>\n",
              "      <td>4.62</td>\n",
              "      <td>1</td>\n",
              "      <td>192</td>\n",
              "    </tr>\n",
              "    <tr>\n",
              "      <th>2</th>\n",
              "      <td>5022</td>\n",
              "      <td>Entire Apt: Spacious Studio/Loft by central park</td>\n",
              "      <td>7192</td>\n",
              "      <td>Laura</td>\n",
              "      <td>Manhattan</td>\n",
              "      <td>East Harlem</td>\n",
              "      <td>40.79851</td>\n",
              "      <td>-73.94399</td>\n",
              "      <td>Entire home/apt</td>\n",
              "      <td>80</td>\n",
              "      <td>10</td>\n",
              "      <td>9</td>\n",
              "      <td>2018-11-19</td>\n",
              "      <td>0.10</td>\n",
              "      <td>1</td>\n",
              "      <td>0</td>\n",
              "    </tr>\n",
              "    <tr>\n",
              "      <th>3</th>\n",
              "      <td>5099</td>\n",
              "      <td>Large Cozy 1 BR Apartment In Midtown East</td>\n",
              "      <td>7322</td>\n",
              "      <td>Chris</td>\n",
              "      <td>Manhattan</td>\n",
              "      <td>Murray Hill</td>\n",
              "      <td>40.74767</td>\n",
              "      <td>-73.97500</td>\n",
              "      <td>Entire home/apt</td>\n",
              "      <td>200</td>\n",
              "      <td>3</td>\n",
              "      <td>75</td>\n",
              "      <td>2019-07-21</td>\n",
              "      <td>0.59</td>\n",
              "      <td>1</td>\n",
              "      <td>13</td>\n",
              "    </tr>\n",
              "    <tr>\n",
              "      <th>4</th>\n",
              "      <td>5121</td>\n",
              "      <td>BlissArtsSpace!</td>\n",
              "      <td>7356</td>\n",
              "      <td>Garon</td>\n",
              "      <td>Brooklyn</td>\n",
              "      <td>Bedford-Stuyvesant</td>\n",
              "      <td>40.68688</td>\n",
              "      <td>-73.95596</td>\n",
              "      <td>Private room</td>\n",
              "      <td>60</td>\n",
              "      <td>45</td>\n",
              "      <td>49</td>\n",
              "      <td>2017-10-05</td>\n",
              "      <td>0.39</td>\n",
              "      <td>1</td>\n",
              "      <td>0</td>\n",
              "    </tr>\n",
              "    <tr>\n",
              "      <th>...</th>\n",
              "      <td>...</td>\n",
              "      <td>...</td>\n",
              "      <td>...</td>\n",
              "      <td>...</td>\n",
              "      <td>...</td>\n",
              "      <td>...</td>\n",
              "      <td>...</td>\n",
              "      <td>...</td>\n",
              "      <td>...</td>\n",
              "      <td>...</td>\n",
              "      <td>...</td>\n",
              "      <td>...</td>\n",
              "      <td>...</td>\n",
              "      <td>...</td>\n",
              "      <td>...</td>\n",
              "      <td>...</td>\n",
              "    </tr>\n",
              "    <tr>\n",
              "      <th>48372</th>\n",
              "      <td>38564068</td>\n",
              "      <td>Top Floor Delight</td>\n",
              "      <td>207204450</td>\n",
              "      <td>Ade</td>\n",
              "      <td>Brooklyn</td>\n",
              "      <td>Cypress Hills</td>\n",
              "      <td>40.67618</td>\n",
              "      <td>-73.90764</td>\n",
              "      <td>Entire home/apt</td>\n",
              "      <td>199</td>\n",
              "      <td>2</td>\n",
              "      <td>0</td>\n",
              "      <td>NaN</td>\n",
              "      <td>NaN</td>\n",
              "      <td>4</td>\n",
              "      <td>42</td>\n",
              "    </tr>\n",
              "    <tr>\n",
              "      <th>48373</th>\n",
              "      <td>38564524</td>\n",
              "      <td>Central Park Elegance</td>\n",
              "      <td>1567562</td>\n",
              "      <td>Maggie</td>\n",
              "      <td>Manhattan</td>\n",
              "      <td>Upper East Side</td>\n",
              "      <td>40.77326</td>\n",
              "      <td>-73.96650</td>\n",
              "      <td>Entire home/apt</td>\n",
              "      <td>175</td>\n",
              "      <td>30</td>\n",
              "      <td>0</td>\n",
              "      <td>NaN</td>\n",
              "      <td>NaN</td>\n",
              "      <td>1</td>\n",
              "      <td>263</td>\n",
              "    </tr>\n",
              "    <tr>\n",
              "      <th>48374</th>\n",
              "      <td>38566777</td>\n",
              "      <td>Quiet room available</td>\n",
              "      <td>159902221</td>\n",
              "      <td>Nancy</td>\n",
              "      <td>Brooklyn</td>\n",
              "      <td>Bushwick</td>\n",
              "      <td>40.69907</td>\n",
              "      <td>-73.93043</td>\n",
              "      <td>Private room</td>\n",
              "      <td>35</td>\n",
              "      <td>30</td>\n",
              "      <td>0</td>\n",
              "      <td>NaN</td>\n",
              "      <td>NaN</td>\n",
              "      <td>1</td>\n",
              "      <td>66</td>\n",
              "    </tr>\n",
              "    <tr>\n",
              "      <th>48375</th>\n",
              "      <td>38567542</td>\n",
              "      <td>Spacious room in Brooklyn brownstone</td>\n",
              "      <td>68905617</td>\n",
              "      <td>Eric</td>\n",
              "      <td>Brooklyn</td>\n",
              "      <td>Crown Heights</td>\n",
              "      <td>40.66986</td>\n",
              "      <td>-73.93772</td>\n",
              "      <td>Private room</td>\n",
              "      <td>79</td>\n",
              "      <td>1</td>\n",
              "      <td>0</td>\n",
              "      <td>NaN</td>\n",
              "      <td>NaN</td>\n",
              "      <td>10</td>\n",
              "      <td>322</td>\n",
              "    </tr>\n",
              "    <tr>\n",
              "      <th>48376</th>\n",
              "      <td>38568081</td>\n",
              "      <td>Petrose home by JFK, Beach &amp;St John Hosp.</td>\n",
              "      <td>293596932</td>\n",
              "      <td>Ebangha</td>\n",
              "      <td>Queens</td>\n",
              "      <td>Far Rockaway</td>\n",
              "      <td>40.60315</td>\n",
              "      <td>-73.75722</td>\n",
              "      <td>Private room</td>\n",
              "      <td>45</td>\n",
              "      <td>3</td>\n",
              "      <td>0</td>\n",
              "      <td>NaN</td>\n",
              "      <td>NaN</td>\n",
              "      <td>1</td>\n",
              "      <td>173</td>\n",
              "    </tr>\n",
              "  </tbody>\n",
              "</table>\n",
              "<p>48377 rows × 16 columns</p>\n",
              "</div>\n",
              "      <button class=\"colab-df-convert\" onclick=\"convertToInteractive('df-91a7967e-fba4-4af0-b339-c7f74abb75cd')\"\n",
              "              title=\"Convert this dataframe to an interactive table.\"\n",
              "              style=\"display:none;\">\n",
              "        \n",
              "  <svg xmlns=\"http://www.w3.org/2000/svg\" height=\"24px\"viewBox=\"0 0 24 24\"\n",
              "       width=\"24px\">\n",
              "    <path d=\"M0 0h24v24H0V0z\" fill=\"none\"/>\n",
              "    <path d=\"M18.56 5.44l.94 2.06.94-2.06 2.06-.94-2.06-.94-.94-2.06-.94 2.06-2.06.94zm-11 1L8.5 8.5l.94-2.06 2.06-.94-2.06-.94L8.5 2.5l-.94 2.06-2.06.94zm10 10l.94 2.06.94-2.06 2.06-.94-2.06-.94-.94-2.06-.94 2.06-2.06.94z\"/><path d=\"M17.41 7.96l-1.37-1.37c-.4-.4-.92-.59-1.43-.59-.52 0-1.04.2-1.43.59L10.3 9.45l-7.72 7.72c-.78.78-.78 2.05 0 2.83L4 21.41c.39.39.9.59 1.41.59.51 0 1.02-.2 1.41-.59l7.78-7.78 2.81-2.81c.8-.78.8-2.07 0-2.86zM5.41 20L4 18.59l7.72-7.72 1.47 1.35L5.41 20z\"/>\n",
              "  </svg>\n",
              "      </button>\n",
              "      \n",
              "  <style>\n",
              "    .colab-df-container {\n",
              "      display:flex;\n",
              "      flex-wrap:wrap;\n",
              "      gap: 12px;\n",
              "    }\n",
              "\n",
              "    .colab-df-convert {\n",
              "      background-color: #E8F0FE;\n",
              "      border: none;\n",
              "      border-radius: 50%;\n",
              "      cursor: pointer;\n",
              "      display: none;\n",
              "      fill: #1967D2;\n",
              "      height: 32px;\n",
              "      padding: 0 0 0 0;\n",
              "      width: 32px;\n",
              "    }\n",
              "\n",
              "    .colab-df-convert:hover {\n",
              "      background-color: #E2EBFA;\n",
              "      box-shadow: 0px 1px 2px rgba(60, 64, 67, 0.3), 0px 1px 3px 1px rgba(60, 64, 67, 0.15);\n",
              "      fill: #174EA6;\n",
              "    }\n",
              "\n",
              "    [theme=dark] .colab-df-convert {\n",
              "      background-color: #3B4455;\n",
              "      fill: #D2E3FC;\n",
              "    }\n",
              "\n",
              "    [theme=dark] .colab-df-convert:hover {\n",
              "      background-color: #434B5C;\n",
              "      box-shadow: 0px 1px 3px 1px rgba(0, 0, 0, 0.15);\n",
              "      filter: drop-shadow(0px 1px 2px rgba(0, 0, 0, 0.3));\n",
              "      fill: #FFFFFF;\n",
              "    }\n",
              "  </style>\n",
              "\n",
              "      <script>\n",
              "        const buttonEl =\n",
              "          document.querySelector('#df-91a7967e-fba4-4af0-b339-c7f74abb75cd button.colab-df-convert');\n",
              "        buttonEl.style.display =\n",
              "          google.colab.kernel.accessAllowed ? 'block' : 'none';\n",
              "\n",
              "        async function convertToInteractive(key) {\n",
              "          const element = document.querySelector('#df-91a7967e-fba4-4af0-b339-c7f74abb75cd');\n",
              "          const dataTable =\n",
              "            await google.colab.kernel.invokeFunction('convertToInteractive',\n",
              "                                                     [key], {});\n",
              "          if (!dataTable) return;\n",
              "\n",
              "          const docLinkHtml = 'Like what you see? Visit the ' +\n",
              "            '<a target=\"_blank\" href=https://colab.research.google.com/notebooks/data_table.ipynb>data table notebook</a>'\n",
              "            + ' to learn more about interactive tables.';\n",
              "          element.innerHTML = '';\n",
              "          dataTable['output_type'] = 'display_data';\n",
              "          await google.colab.output.renderOutput(dataTable, element);\n",
              "          const docLink = document.createElement('div');\n",
              "          docLink.innerHTML = docLinkHtml;\n",
              "          element.appendChild(docLink);\n",
              "        }\n",
              "      </script>\n",
              "    </div>\n",
              "  </div>\n",
              "  "
            ]
          },
          "metadata": {},
          "execution_count": 9
        }
      ]
    },
    {
      "cell_type": "markdown",
      "source": [
        "**Here, I'm going to use that method to create a higstogram that displays a distribution of the quantitative data in the price column**"
      ],
      "metadata": {
        "id": "anu1MQCgChQ3"
      }
    },
    {
      "cell_type": "code",
      "source": [
        "plt.hist(listings['price'])\n",
        "plt.xlabel('price(in US Dollars)')\n",
        "plt.show()"
      ],
      "metadata": {
        "colab": {
          "base_uri": "https://localhost:8080/",
          "height": 281
        },
        "id": "HaTYMsEDChC4",
        "outputId": "4ce64119-7853-4cc1-fca9-b1d19e3e4758"
      },
      "execution_count": 11,
      "outputs": [
        {
          "output_type": "display_data",
          "data": {
            "text/plain": [
              "<Figure size 432x288 with 1 Axes>"
            ],
            "image/png": "[encoded data removed]"
          },
          "metadata": {
            "needs_background": "light"
          }
        }
      ]
    },
    {
      "cell_type": "markdown",
      "source": [
        "**Notice that the histogram here that has been created is kind of difficult to see where the data lines, the prices are grouped into contiguous intervals through these intervals called bins, So I'm going to recreate this histogram using the highest method and include an optional beenz parameter**"
      ],
      "metadata": {
        "id": "dvitl3YPDwem"
      }
    },
    {
      "cell_type": "code",
      "source": [
        "plt.hist(listings ['price'], bins = np.arange(0,1100,40))\n",
        "plt.xlabel('price(in US Dollars)')\n",
        "plt.show()"
      ],
      "metadata": {
        "colab": {
          "base_uri": "https://localhost:8080/",
          "height": 279
        },
        "id": "KmZtO3X3EpOb",
        "outputId": "edc82700-459d-459f-d9ea-19df804e4041"
      },
      "execution_count": 12,
      "outputs": [
        {
          "output_type": "display_data",
          "data": {
            "text/plain": [
              "<Figure size 432x288 with 1 Axes>"
            ],
            "image/png": "[encoded data removed]"
          },
          "metadata": {
            "needs_background": "light"
          }
        }
      ]
    },
    {
      "cell_type": "markdown",
      "source": [
        "**Next, I want to create scatter plots to compare the prices of Airbnb listings and the number of reviews for each of those listings**"
      ],
      "metadata": {
        "id": "HYSUAbrwGNXW"
      }
    },
    {
      "cell_type": "code",
      "source": [
        "plt.scatter(x = listings ['price'], y = listings ['number_of_reviews'])\n",
        "plt.xlabel('price')\n",
        "plt.ylabel('number of reviews')\n",
        "plt.show()"
      ],
      "metadata": {
        "colab": {
          "base_uri": "https://localhost:8080/",
          "height": 279
        },
        "id": "NDO-0YFuGilB",
        "outputId": "a8656824-7cf0-4d4e-bbba-f35d790d1d86"
      },
      "execution_count": 14,
      "outputs": [
        {
          "output_type": "display_data",
          "data": {
            "text/plain": [
              "<Figure size 432x288 with 1 Axes>"
            ],
            "image/png": "[encoded data removed]"
          },
          "metadata": {
            "needs_background": "light"
          }
        }
      ]
    }
  ]
}